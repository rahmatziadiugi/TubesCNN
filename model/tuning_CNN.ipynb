{
 "cells": [
  {
   "cell_type": "code",
   "execution_count": 2,
   "metadata": {},
   "outputs": [
    {
     "name": "stderr",
     "output_type": "stream",
     "text": [
      "Using TensorFlow backend.\n"
     ]
    }
   ],
   "source": [
    "import os\n",
    "import numpy as np\n",
    "import matplotlib\n",
    "from matplotlib import pyplot as plt\n",
    "from keras.models import Sequential\n",
    "from keras.optimizers import Adam, SGD\n",
    "from keras.callbacks import ModelCheckpoint\n",
    "from keras.constraints import maxnorm\n",
    "from keras.models import load_model\n",
    "from keras.layers import GlobalAveragePooling2D, Lambda, Conv2D, MaxPooling2D, Dropout, Dense, Flatten, Activation\n",
    "from keras.preprocessing.image import ImageDataGenerator\n",
    "from keras.utils.np_utils import to_categorical"
   ]
  },
  {
   "cell_type": "code",
   "execution_count": 3,
   "metadata": {
    "collapsed": true
   },
   "outputs": [],
   "source": [
    "# dimensi data\n",
    "img_width = 50\n",
    "img_height = 50\n",
    "\n",
    "# channels\n",
    "channels = 3\n",
    "\n",
    "# epoch\n",
    "num_epoch = 20\n",
    "\n",
    "# learning rate\n",
    "learn_rate = 1e-3\n",
    "\n",
    "# directory train dan validation dataset\n",
    "train_data_dir = 'data/train_bike_car_person'\n",
    "validation_data_dir = 'data/val_bike_car_person'\n",
    "test_data_dir = 'data/test_bike_car_person'"
   ]
  },
  {
   "cell_type": "code",
   "execution_count": 4,
   "metadata": {},
   "outputs": [
    {
     "name": "stdout",
     "output_type": "stream",
     "text": [
      "Found 1200 images belonging to 4 classes.\n",
      "Found 276 images belonging to 4 classes.\n",
      "Found 413 images belonging to 1 classes.\n"
     ]
    }
   ],
   "source": [
    "datagenerate = ImageDataGenerator(rescale = 1./255)\n",
    "\n",
    "# melakukan transformasi pada data train\n",
    "train_datagenerate = ImageDataGenerator(\n",
    "        rescale = 1./255,\n",
    "        shear_range = 0.2,\n",
    "        zoom_range = 0.2,\n",
    "        horizontal_flip = True)\n",
    "\n",
    "# pengambilan data set untuk train dan validasi\n",
    "train_generator = train_datagenerate.flow_from_directory(\n",
    "    train_data_dir,\n",
    "    target_size = (img_width, img_height),\n",
    "    batch_size = 32,\n",
    "    class_mode ='categorical')\n",
    "\n",
    "validation_generator = datagenerate.flow_from_directory(\n",
    "    validation_data_dir,\n",
    "    target_size = (img_width, img_height),\n",
    "    batch_size = 32,\n",
    "    class_mode = 'categorical')\n",
    "\n",
    "test_generator = datagenerate.flow_from_directory(\n",
    "    test_data_dir,\n",
    "    target_size = (img_width, img_height),\n",
    "    class_mode = None)"
   ]
  },
  {
   "cell_type": "code",
   "execution_count": 5,
   "metadata": {
    "collapsed": true
   },
   "outputs": [],
   "source": [
    "def create_cnn_model():\n",
    "    model = Sequential()\n",
    "    \n",
    "    model.add(Conv2D(32, (3, 3), activation = 'relu', padding='same', input_shape=(img_width,img_height,channels)))\n",
    "    #model.add(Dropout(0.2))\n",
    "    model.add(MaxPooling2D(pool_size=(2, 2)))\n",
    "    \n",
    "    model.add(Conv2D(64, (3, 3), activation = 'relu'))\n",
    "    model.add(MaxPooling2D(pool_size=(2, 2)))\n",
    "    \n",
    "    #model.add(Conv2D(128, (3, 3), activation = 'relu', padding='same', strides = 2))\n",
    "    #model.add(Dropout(0.2))\n",
    "    #model.add(MaxPooling2D(pool_size=(2, 2)))\n",
    "    \n",
    "    model.add(Conv2D(64, (3, 3), activation = 'relu'))\n",
    "    model.add(MaxPooling2D(pool_size=(2, 2)))\n",
    "    \n",
    "    model.add(Conv2D(32, (2, 2), activation = 'relu'))\n",
    "    \n",
    "    #model.add(Conv2D(32, (3, 3), activation = 'relu', padding='same', strides = 2))\n",
    "    #model.add(MaxPooling2D(pool_size=(2, 2)))\n",
    "    \n",
    "    #model.add(GlobalAveragePooling2D())\n",
    "    \n",
    "    model.add(Flatten())\n",
    "    model.add(Dense(32))\n",
    "    model.add(Activation('relu'))\n",
    "    model.add(Dropout(0.5))\n",
    "    model.add(Dense(4))\n",
    "    model.add(Activation('softmax'))\n",
    "\n",
    "    \n",
    "    model.summary()\n",
    "    \n",
    "    return model"
   ]
  },
  {
   "cell_type": "code",
   "execution_count": 6,
   "metadata": {},
   "outputs": [
    {
     "name": "stdout",
     "output_type": "stream",
     "text": [
      "_________________________________________________________________\n",
      "Layer (type)                 Output Shape              Param #   \n",
      "=================================================================\n",
      "conv2d_1 (Conv2D)            (None, 50, 50, 32)        896       \n",
      "_________________________________________________________________\n",
      "max_pooling2d_1 (MaxPooling2 (None, 25, 25, 32)        0         \n",
      "_________________________________________________________________\n",
      "conv2d_2 (Conv2D)            (None, 23, 23, 64)        18496     \n",
      "_________________________________________________________________\n",
      "max_pooling2d_2 (MaxPooling2 (None, 11, 11, 64)        0         \n",
      "_________________________________________________________________\n",
      "conv2d_3 (Conv2D)            (None, 9, 9, 64)          36928     \n",
      "_________________________________________________________________\n",
      "max_pooling2d_3 (MaxPooling2 (None, 4, 4, 64)          0         \n",
      "_________________________________________________________________\n",
      "conv2d_4 (Conv2D)            (None, 3, 3, 32)          8224      \n",
      "_________________________________________________________________\n",
      "flatten_1 (Flatten)          (None, 288)               0         \n",
      "_________________________________________________________________\n",
      "dense_1 (Dense)              (None, 32)                9248      \n",
      "_________________________________________________________________\n",
      "activation_1 (Activation)    (None, 32)                0         \n",
      "_________________________________________________________________\n",
      "dropout_1 (Dropout)          (None, 32)                0         \n",
      "_________________________________________________________________\n",
      "dense_2 (Dense)              (None, 4)                 132       \n",
      "_________________________________________________________________\n",
      "activation_2 (Activation)    (None, 4)                 0         \n",
      "=================================================================\n",
      "Total params: 73,924\n",
      "Trainable params: 73,924\n",
      "Non-trainable params: 0\n",
      "_________________________________________________________________\n"
     ]
    }
   ],
   "source": [
    "model = create_cnn_model()"
   ]
  },
  {
   "cell_type": "code",
   "execution_count": 6,
   "metadata": {
    "collapsed": true
   },
   "outputs": [],
   "source": [
    "# save the model after every epoch\n",
    "checkpoint = ModelCheckpoint('best_model_improved.h5',\n",
    "                            monitor = 'val_loss',\n",
    "                            save_best_only = True,\n",
    "                            mode = 'auto')"
   ]
  },
  {
   "cell_type": "code",
   "execution_count": 7,
   "metadata": {
    "collapsed": true
   },
   "outputs": [],
   "source": [
    "# konfigurasi model\n",
    "model.compile(loss = 'categorical_crossentropy',\n",
    "             optimizer = Adam(lr = learn_rate),\n",
    "             metrics = ['accuracy'])"
   ]
  },
  {
   "cell_type": "code",
   "execution_count": 8,
   "metadata": {
    "collapsed": true
   },
   "outputs": [],
   "source": [
    "# Training\n",
    "nb_train_samples = 1200\n",
    "nb_validation_samples = 276\n",
    "nb_test_samples = 413"
   ]
  },
  {
   "cell_type": "code",
   "execution_count": 9,
   "metadata": {
    "scrolled": true
   },
   "outputs": [
    {
     "name": "stderr",
     "output_type": "stream",
     "text": [
      "C:\\Users\\Someone\\Anaconda3\\envs\\tensorflow\\lib\\site-packages\\ipykernel_launcher.py:9: UserWarning: The semantics of the Keras 2 argument `steps_per_epoch` is not the same as the Keras 1 argument `samples_per_epoch`. `steps_per_epoch` is the number of batches to draw from the generator at each epoch. Basically steps_per_epoch = samples_per_epoch/batch_size. Similarly `nb_val_samples`->`validation_steps` and `val_samples`->`steps` arguments have changed. Update your method calls accordingly.\n",
      "  if __name__ == '__main__':\n",
      "C:\\Users\\Someone\\Anaconda3\\envs\\tensorflow\\lib\\site-packages\\ipykernel_launcher.py:9: UserWarning: Update your `fit_generator` call to the Keras 2 API: `fit_generator(<keras.pre..., validation_steps=276, epochs=10, callbacks=[<keras.ca..., validation_data=<keras.pre..., steps_per_epoch=1200)`\n",
      "  if __name__ == '__main__':\n"
     ]
    },
    {
     "name": "stdout",
     "output_type": "stream",
     "text": [
      "Epoch 1/10\n",
      "1200/1200 [==============================] - 64s - loss: 0.9347 - acc: 0.6190 - val_loss: 0.9099 - val_acc: 0.6231\n",
      "Epoch 2/10\n",
      "1200/1200 [==============================] - 55s - loss: 0.6075 - acc: 0.7723 - val_loss: 0.8852 - val_acc: 0.6460\n",
      "Epoch 3/10\n",
      "1200/1200 [==============================] - 56s - loss: 0.4284 - acc: 0.8371 - val_loss: 0.9669 - val_acc: 0.6822\n",
      "Epoch 4/10\n",
      "1200/1200 [==============================] - 57s - loss: 0.3009 - acc: 0.8885 - val_loss: 1.1168 - val_acc: 0.6816\n",
      "Epoch 5/10\n",
      "1200/1200 [==============================] - 59s - loss: 0.2300 - acc: 0.9178 - val_loss: 1.3126 - val_acc: 0.6736\n",
      "Epoch 6/10\n",
      "1200/1200 [==============================] - 58s - loss: 0.1704 - acc: 0.9418 - val_loss: 1.9462 - val_acc: 0.5980\n",
      "Epoch 7/10\n",
      "1200/1200 [==============================] - 60s - loss: 0.1439 - acc: 0.9518 - val_loss: 2.6808 - val_acc: 0.5974\n",
      "Epoch 8/10\n",
      "1200/1200 [==============================] - 61s - loss: 0.1129 - acc: 0.9626 - val_loss: 1.8954 - val_acc: 0.6333\n",
      "Epoch 9/10\n",
      "1200/1200 [==============================] - 61s - loss: 0.1083 - acc: 0.9655 - val_loss: 1.8707 - val_acc: 0.6844\n",
      "Epoch 10/10\n",
      "1200/1200 [==============================] - 60s - loss: 0.0950 - acc: 0.9697 - val_loss: 1.9664 - val_acc: 0.6337\n"
     ]
    }
   ],
   "source": [
    "# fit the model\n",
    "\n",
    "model_details = model.fit_generator(\n",
    "                                    train_generator,\n",
    "                                    steps_per_epoch = nb_train_samples,\n",
    "                                    nb_epoch = num_epoch,\n",
    "                                    validation_data = validation_generator,\n",
    "                                    validation_steps = nb_validation_samples,\n",
    "                                    callbacks = [checkpoint])"
   ]
  },
  {
   "cell_type": "code",
   "execution_count": 10,
   "metadata": {},
   "outputs": [
    {
     "data": {
      "text/plain": [
       "[0.88979858727079164, 0.643767704960307]"
      ]
     },
     "execution_count": 10,
     "metadata": {},
     "output_type": "execute_result"
    }
   ],
   "source": [
    "model.evaluate_generator(validation_generator, nb_validation_samples)"
   ]
  },
  {
   "cell_type": "code",
   "execution_count": 9,
   "metadata": {
    "collapsed": true
   },
   "outputs": [],
   "source": [
    "model.load_weights('best_model_improved.h5')"
   ]
  },
  {
   "cell_type": "code",
   "execution_count": 11,
   "metadata": {},
   "outputs": [
    {
     "name": "stdout",
     "output_type": "stream",
     "text": [
      "[3 0 3 ..., 0 0 1]\n"
     ]
    }
   ],
   "source": [
    "# prediksi dari data test\n",
    "\n",
    "#model.predict(test_generator)\n",
    "#model.predict_classes(test_generator)\n",
    "\n",
    "# calculate predictions\n",
    "predictions = model.predict_generator(test_generator, steps=nb_test_samples)\n",
    "\n",
    "rounded = predictions.argmax(axis=-1)\n",
    "print(rounded)"
   ]
  },
  {
   "cell_type": "code",
   "execution_count": 12,
   "metadata": {},
   "outputs": [],
   "source": [
    "np.savetxt(fname=\"predict.txt\", X=rounded)"
   ]
  },
  {
   "cell_type": "code",
   "execution_count": null,
   "metadata": {
    "collapsed": true
   },
   "outputs": [],
   "source": []
  },
  {
   "cell_type": "code",
   "execution_count": null,
   "metadata": {
    "collapsed": true
   },
   "outputs": [],
   "source": []
  },
  {
   "cell_type": "code",
   "execution_count": null,
   "metadata": {
    "collapsed": true
   },
   "outputs": [],
   "source": []
  },
  {
   "cell_type": "code",
   "execution_count": null,
   "metadata": {
    "collapsed": true
   },
   "outputs": [],
   "source": []
  }
 ],
 "metadata": {
  "anaconda-cloud": {},
  "kernelspec": {
   "display_name": "Python 3",
   "language": "python",
   "name": "python3"
  },
  "language_info": {
   "codemirror_mode": {
    "name": "ipython",
    "version": 3
   },
   "file_extension": ".py",
   "mimetype": "text/x-python",
   "name": "python",
   "nbconvert_exporter": "python",
   "pygments_lexer": "ipython3",
   "version": "3.5.3"
  }
 },
 "nbformat": 4,
 "nbformat_minor": 1
}
